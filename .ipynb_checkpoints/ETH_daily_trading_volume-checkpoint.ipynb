{
 "cells": [
  {
   "cell_type": "markdown",
   "metadata": {},
   "source": [
    "# Capstone Webscrapping using BeautifulSoup\n",
    "\n",
    "## Ethereum Daily Trading Volume \n",
    "\n",
    "<img src=\"assets/ETH_Historical_data.jpg\" alt=\"ETH Historical Data\" style=\"width:900px;\"/>\n"
   ]
  },
  {
   "cell_type": "markdown",
   "metadata": {},
   "source": [
    "## Requesting the Data and Creating a BeautifulSoup\n",
    "\n",
    "Let's begin with requesting the web from the site with `get` method."
   ]
  },
  {
   "cell_type": "markdown",
   "metadata": {},
   "source": [
    "Pada tahapan awal ini dilakukan request halaman web data historis Ethereum periode Januari 2021 dari website coingecko.com menggunakan `request.get()` "
   ]
  },
  {
   "cell_type": "code",
   "execution_count": 19,
   "metadata": {
    "ExecuteTime": {
     "end_time": "2020-01-13T05:12:23.275508Z",
     "start_time": "2020-01-13T05:12:20.009898Z"
    }
   },
   "outputs": [],
   "source": [
    "import requests\n",
    "end_date = \"2021-01-31\"\n",
    "start_date= \"2021-01-01\"\n",
    "url_get = requests.get('https://www.coingecko.com/en/coins/ethereum/historical_data/usd?end_date='+end_date+'&start_date='+start_date+'#panel')"
   ]
  },
  {
   "cell_type": "markdown",
   "metadata": {},
   "source": [
    "To visualize what exactly you get from the `request.get`, we can use .content so ee what we exactly get, in here i slice it so it won't make our screen full of the html we get from the page. You can delete the slicing if you want to see what we fully get."
   ]
  },
  {
   "cell_type": "code",
   "execution_count": 22,
   "metadata": {
    "ExecuteTime": {
     "end_time": "2020-01-13T05:12:23.290648Z",
     "start_time": "2020-01-13T05:12:23.277650Z"
    }
   },
   "outputs": [
    {
     "data": {
      "text/plain": [
       "b'!DOCTYPE html>\\n<html lang=\"en\">\\n<head>\\n<meta charset=\"utf-8\">\\n<meta http-equiv=\"X-UA-Compatible\" content=\"IE=edge\">\\n<meta name=\"viewport\" content=\"width=device-width, initial-scale=1.0\">\\n<link rel=\"shortcut icon\" href=\"/favicon.ico\">\\n<title>Ethereum USD Historical Data | CoinGecko</title>\\n<meta name=\"description\" content=\"Get Ethereum (ETH) USD historical prices.\" />\\n\\n<link rel=\"preload\" href=\"https://static.coingecko.com/webfonts/fa-solid-900.woff2\" as=\"font\" type=\"font/woff2\" crossorigin>\\n<link rel=\"preload\" href=\"https://static.coingecko.com/webfonts/fa-brands-400.woff2\" as=\"font\" type=\"font/woff2\" crossorigin>\\n<link rel=\"preload\" href=\"https://static.coingecko.com/webfonts/fa-regular-400.woff2\" as=\"font\" type=\"font/woff2\" crossorigin>\\n<link rel=\"preconnect\" href'"
      ]
     },
     "execution_count": 22,
     "metadata": {},
     "output_type": "execute_result"
    }
   ],
   "source": [
    "url_get.content[1:777]"
   ]
  },
  {
   "cell_type": "markdown",
   "metadata": {},
   "source": [
    "As we can see we get a very unstructured and complex html, which actually contains the codes needed to show the webpages on your web browser. But we as human still confused what and where we can use that piece of code, so here where we use the beautifulsoup. Beautiful soup class will result a beautifulsoup object. Beautiful Soup transforms a complex HTML document into a complex tree of Python objects. \n",
    "\n",
    "Let's make Beautiful soup object and feel free to explore the object here."
   ]
  },
  {
   "cell_type": "code",
   "execution_count": 23,
   "metadata": {
    "ExecuteTime": {
     "end_time": "2020-01-13T05:12:23.808122Z",
     "start_time": "2020-01-13T05:12:23.292610Z"
    }
   },
   "outputs": [
    {
     "name": "stdout",
     "output_type": "stream",
     "text": [
      "<class 'bs4.BeautifulSoup'>\n"
     ]
    }
   ],
   "source": [
    "from bs4 import BeautifulSoup \n",
    "\n",
    "soup = BeautifulSoup(url_get.content,\"html.parser\")\n",
    "print(type(soup))"
   ]
  },
  {
   "cell_type": "markdown",
   "metadata": {},
   "source": [
    "## Finding the right key to scrap the data & Extracting the right information"
   ]
  },
  {
   "cell_type": "markdown",
   "metadata": {},
   "source": [
    "<img src=\"assets/coingecko_web_table.png\" alt=\"coingecko\" style=\"width:900px;\"/>"
   ]
  },
  {
   "cell_type": "markdown",
   "metadata": {},
   "source": [
    "Setelah menemukan tag HTML berupa tag `table` dan `class` CSS dari data yang ingin diambil seperti pada gambar diatas, dilakukan pencarian menggunakan fungsi `find()` dengan parameter awal tag `table` dan parameter kedua berupa dictionary dari nama class CSS untuk mendapatkan semua nilai pada tag `table`"
   ]
  },
  {
   "cell_type": "code",
   "execution_count": 24,
   "metadata": {
    "ExecuteTime": {
     "end_time": "2020-01-13T05:12:23.878904Z",
     "start_time": "2020-01-13T05:12:23.854974Z"
    }
   },
   "outputs": [
    {
     "name": "stdout",
     "output_type": "stream",
     "text": [
      "table class=\"table table-striped text-sm text-lg-normal\">\n",
      " <thead>\n",
      "  <tr>\n",
      "   <th class=\"text-center\">\n",
      "    Date\n",
      "   </th>\n",
      "   <th class=\"text-center\">\n",
      "    Market Cap\n",
      "   </th>\n",
      "   <th class=\"text-center\">\n",
      "    Volume\n",
      "   </th>\n",
      "   <th class=\"text-center\">\n",
      "    Open\n",
      "   </th>\n",
      "   <th class=\"text-center\">\n",
      "    Close\n",
      "   </th>\n",
      "  </tr>\n",
      " </thead>\n",
      " <tbody>\n",
      "  <tr>\n",
      "   <th class=\"font-semibold text-center\" scope=\"row\">\n",
      "    2021-01-31\n",
      "   </th>\n",
      "   <td class=\"text-center\">\n",
      "    $157,410,718,624\n",
      "   </td>\n",
      "   <td class=\"te\n"
     ]
    }
   ],
   "source": [
    "table = soup.find('table', attrs={'class':'table table-striped text-sm text-lg-normal'})\n",
    "print(table.prettify()[1:500])"
   ]
  },
  {
   "cell_type": "markdown",
   "metadata": {},
   "source": [
    "melakukan pencarian table row `tr` yang selanjutnya akan digunakan dalam melakukan pengambilan nilai yang diperlukan menggunakan looping"
   ]
  },
  {
   "cell_type": "code",
   "execution_count": 25,
   "metadata": {},
   "outputs": [
    {
     "data": {
      "text/plain": [
       "[<tr>\n",
       " <th class=\"text-center\">Date</th>\n",
       " <th class=\"text-center\">Market Cap</th>\n",
       " <th class=\"text-center\">Volume</th>\n",
       " <th class=\"text-center\">Open</th>\n",
       " <th class=\"text-center\">Close</th>\n",
       " </tr>,\n",
       " <tr>\n",
       " <th class=\"font-semibold text-center\" scope=\"row\">2021-01-31</th>\n",
       " <td class=\"text-center\">\n",
       " $157,410,718,624\n",
       " </td>\n",
       " <td class=\"text-center\">\n",
       " $29,581,914,651\n",
       " </td>\n",
       " <td class=\"text-center\">\n",
       " $1,372.43\n",
       " </td>\n",
       " <td class=\"text-center\">\n",
       " N/A\n",
       " </td>\n",
       " </tr>]"
      ]
     },
     "execution_count": 25,
     "metadata": {},
     "output_type": "execute_result"
    }
   ],
   "source": [
    "tr = table.find_all('tr')\n",
    "tr[:2] # melihat row header dan row nilai baris pertama"
   ]
  },
  {
   "cell_type": "markdown",
   "metadata": {},
   "source": [
    "pada tahapan ini dilakukan looping setiap baris yang berisi data `Tanggal` dan nilai `Volume` transaksi harian yang kemudian disimpan kedalam variable `temp`"
   ]
  },
  {
   "cell_type": "code",
   "execution_count": 26,
   "metadata": {
    "ExecuteTime": {
     "end_time": "2020-01-13T05:12:24.008256Z",
     "start_time": "2020-01-13T05:12:23.980358Z"
    }
   },
   "outputs": [
    {
     "data": {
      "text/plain": [
       "[('2021-01-31', '$29,581,914,651'),\n",
       " ('2021-01-30', '$49,454,503,568'),\n",
       " ('2021-01-29', '$32,668,893,127'),\n",
       " ('2021-01-28', '$38,752,412,145'),\n",
       " ('2021-01-27', '$40,367,492,549')]"
      ]
     },
     "execution_count": 26,
     "metadata": {},
     "output_type": "execute_result"
    }
   ],
   "source": [
    "temp = [] \n",
    "\n",
    "for i in range(1, len(tr)):\n",
    "    row = table.find_all('tr')[i]\n",
    "    \n",
    "    if(len(row)!=1):\n",
    "        date = row.find_all('th')[0].text\n",
    "        date = date.strip()\n",
    "        \n",
    "        volume = row.find_all('td')[1].text\n",
    "        volume = volume.strip()\n",
    "        \n",
    "        temp.append((date,volume))\n",
    "\n",
    "temp[:5]"
   ]
  },
  {
   "cell_type": "markdown",
   "metadata": {},
   "source": [
    "## Creating Dataframe & Data wrangling"
   ]
  },
  {
   "cell_type": "markdown",
   "metadata": {},
   "source": [
    "memasukkan data pada variabel `temp` ke dalam Dataframe"
   ]
  },
  {
   "cell_type": "code",
   "execution_count": 27,
   "metadata": {
    "ExecuteTime": {
     "end_time": "2020-01-13T05:12:41.517372Z",
     "start_time": "2020-01-13T05:12:29.130015Z"
    }
   },
   "outputs": [],
   "source": [
    "import pandas as pd\n",
    "\n",
    "data = pd.DataFrame(temp, columns = ('date','volume'))"
   ]
  },
  {
   "cell_type": "markdown",
   "metadata": {},
   "source": [
    "menggunakan fungsi `info()` untuk melihat apakah terdapat nilai null dan tipe data yang terdapat pada dataframe"
   ]
  },
  {
   "cell_type": "code",
   "execution_count": 28,
   "metadata": {},
   "outputs": [
    {
     "name": "stdout",
     "output_type": "stream",
     "text": [
      "<class 'pandas.core.frame.DataFrame'>\n",
      "RangeIndex: 31 entries, 0 to 30\n",
      "Data columns (total 2 columns):\n",
      " #   Column  Non-Null Count  Dtype \n",
      "---  ------  --------------  ----- \n",
      " 0   date    31 non-null     object\n",
      " 1   volume  31 non-null     object\n",
      "dtypes: object(2)\n",
      "memory usage: 624.0+ bytes\n"
     ]
    }
   ],
   "source": [
    "data.info()"
   ]
  },
  {
   "cell_type": "code",
   "execution_count": 29,
   "metadata": {},
   "outputs": [
    {
     "data": {
      "text/html": [
       "<div>\n",
       "<style scoped>\n",
       "    .dataframe tbody tr th:only-of-type {\n",
       "        vertical-align: middle;\n",
       "    }\n",
       "\n",
       "    .dataframe tbody tr th {\n",
       "        vertical-align: top;\n",
       "    }\n",
       "\n",
       "    .dataframe thead th {\n",
       "        text-align: right;\n",
       "    }\n",
       "</style>\n",
       "<table border=\"1\" class=\"dataframe\">\n",
       "  <thead>\n",
       "    <tr style=\"text-align: right;\">\n",
       "      <th></th>\n",
       "      <th>date</th>\n",
       "      <th>volume</th>\n",
       "    </tr>\n",
       "  </thead>\n",
       "  <tbody>\n",
       "    <tr>\n",
       "      <th>0</th>\n",
       "      <td>2021-01-31</td>\n",
       "      <td>$29,581,914,651</td>\n",
       "    </tr>\n",
       "    <tr>\n",
       "      <th>1</th>\n",
       "      <td>2021-01-30</td>\n",
       "      <td>$49,454,503,568</td>\n",
       "    </tr>\n",
       "    <tr>\n",
       "      <th>2</th>\n",
       "      <td>2021-01-29</td>\n",
       "      <td>$32,668,893,127</td>\n",
       "    </tr>\n",
       "    <tr>\n",
       "      <th>3</th>\n",
       "      <td>2021-01-28</td>\n",
       "      <td>$38,752,412,145</td>\n",
       "    </tr>\n",
       "    <tr>\n",
       "      <th>4</th>\n",
       "      <td>2021-01-27</td>\n",
       "      <td>$40,367,492,549</td>\n",
       "    </tr>\n",
       "  </tbody>\n",
       "</table>\n",
       "</div>"
      ],
      "text/plain": [
       "         date           volume\n",
       "0  2021-01-31  $29,581,914,651\n",
       "1  2021-01-30  $49,454,503,568\n",
       "2  2021-01-29  $32,668,893,127\n",
       "3  2021-01-28  $38,752,412,145\n",
       "4  2021-01-27  $40,367,492,549"
      ]
     },
     "execution_count": 29,
     "metadata": {},
     "output_type": "execute_result"
    }
   ],
   "source": [
    "data.head()"
   ]
  },
  {
   "cell_type": "markdown",
   "metadata": {},
   "source": [
    "hasil dari pengamatan menggunakan fungsi `info()` dan `head()` pada dataframe : \n",
    "- jumlah baris data sesuai dengan jumlah tanggal pada bulan Januari 2021\n",
    "- tidak terdapat nilai null pada dataframe \n",
    "- tipe data pada kolom `date` perlu diubah menjadi tipe data *datetime64* \n",
    "- pada kolom `volume` perlu dilakukan penghapusan karakter *$* dan koma\n",
    "- tipe data pada kolom `volume` perlu diubah menjadi tipe data *int64* "
   ]
  },
  {
   "cell_type": "code",
   "execution_count": 30,
   "metadata": {
    "ExecuteTime": {
     "end_time": "2020-01-13T05:12:59.165559Z",
     "start_time": "2020-01-13T05:12:58.910012Z"
    }
   },
   "outputs": [],
   "source": [
    "# mengubah tipe data kolom date menjadi datetime64\n",
    "data['date'] = pd.to_datetime(data['date'])\n",
    "\n",
    "# menghapus karakter $ dan koma pada nilai volume\n",
    "data['volume'] = data['volume'].str.replace('$','').str.replace(',','')\n",
    "\n",
    "# mengubah tipe data kolom volume menjadi int64\n",
    "data['volume'] = data['volume'].astype('int64')"
   ]
  },
  {
   "cell_type": "markdown",
   "metadata": {},
   "source": [
    "hasil data wrangling :"
   ]
  },
  {
   "cell_type": "code",
   "execution_count": 31,
   "metadata": {},
   "outputs": [
    {
     "data": {
      "text/html": [
       "<div>\n",
       "<style scoped>\n",
       "    .dataframe tbody tr th:only-of-type {\n",
       "        vertical-align: middle;\n",
       "    }\n",
       "\n",
       "    .dataframe tbody tr th {\n",
       "        vertical-align: top;\n",
       "    }\n",
       "\n",
       "    .dataframe thead th {\n",
       "        text-align: right;\n",
       "    }\n",
       "</style>\n",
       "<table border=\"1\" class=\"dataframe\">\n",
       "  <thead>\n",
       "    <tr style=\"text-align: right;\">\n",
       "      <th></th>\n",
       "      <th>date</th>\n",
       "      <th>volume</th>\n",
       "    </tr>\n",
       "  </thead>\n",
       "  <tbody>\n",
       "    <tr>\n",
       "      <th>0</th>\n",
       "      <td>2021-01-31</td>\n",
       "      <td>29581914651</td>\n",
       "    </tr>\n",
       "    <tr>\n",
       "      <th>1</th>\n",
       "      <td>2021-01-30</td>\n",
       "      <td>49454503568</td>\n",
       "    </tr>\n",
       "    <tr>\n",
       "      <th>2</th>\n",
       "      <td>2021-01-29</td>\n",
       "      <td>32668893127</td>\n",
       "    </tr>\n",
       "    <tr>\n",
       "      <th>3</th>\n",
       "      <td>2021-01-28</td>\n",
       "      <td>38752412145</td>\n",
       "    </tr>\n",
       "    <tr>\n",
       "      <th>4</th>\n",
       "      <td>2021-01-27</td>\n",
       "      <td>40367492549</td>\n",
       "    </tr>\n",
       "  </tbody>\n",
       "</table>\n",
       "</div>"
      ],
      "text/plain": [
       "        date       volume\n",
       "0 2021-01-31  29581914651\n",
       "1 2021-01-30  49454503568\n",
       "2 2021-01-29  32668893127\n",
       "3 2021-01-28  38752412145\n",
       "4 2021-01-27  40367492549"
      ]
     },
     "execution_count": 31,
     "metadata": {},
     "output_type": "execute_result"
    }
   ],
   "source": [
    "data.head()"
   ]
  },
  {
   "cell_type": "code",
   "execution_count": 32,
   "metadata": {},
   "outputs": [
    {
     "name": "stdout",
     "output_type": "stream",
     "text": [
      "<class 'pandas.core.frame.DataFrame'>\n",
      "RangeIndex: 31 entries, 0 to 30\n",
      "Data columns (total 2 columns):\n",
      " #   Column  Non-Null Count  Dtype         \n",
      "---  ------  --------------  -----         \n",
      " 0   date    31 non-null     datetime64[ns]\n",
      " 1   volume  31 non-null     int64         \n",
      "dtypes: datetime64[ns](1), int64(1)\n",
      "memory usage: 624.0 bytes\n"
     ]
    }
   ],
   "source": [
    "data.info()"
   ]
  },
  {
   "cell_type": "markdown",
   "metadata": {},
   "source": [
    "## Visualisation and Analysis"
   ]
  },
  {
   "cell_type": "code",
   "execution_count": 33,
   "metadata": {},
   "outputs": [],
   "source": [
    "import matplotlib.pyplot as plt\n",
    "from matplotlib.dates import DateFormatter\n",
    "import matplotlib.dates as mdates\n",
    "import matplotlib.ticker as tick"
   ]
  },
  {
   "cell_type": "code",
   "execution_count": 34,
   "metadata": {
    "ExecuteTime": {
     "end_time": "2020-01-13T05:20:56.208237Z",
     "start_time": "2020-01-13T05:20:56.076043Z"
    },
    "scrolled": true
   },
   "outputs": [
    {
     "data": {
      "image/png": "[encoded data removed]",
      "text/plain": [
       "<Figure size 1440x432 with 1 Axes>"
      ]
     },
     "metadata": {
      "needs_background": "light"
     },
     "output_type": "display_data"
    }
   ],
   "source": [
    "fig, ax = plt.subplots(figsize=(20,6))\n",
    "\n",
    "ax.plot(data['date'],\n",
    "        data['volume'])\n",
    "\n",
    "ax.set(xlabel=\"Date\", ylabel=\"Volume (per 10M USD)\",\n",
    "       title=\"Volume Transaksi Harian Ethereum Bulan Januari 2021\")\n",
    "\n",
    "ax.xaxis.set_major_locator(mdates.DayLocator(interval=1))\n",
    "format = DateFormatter(\"%m/%d\")\n",
    "ax.xaxis.set_major_formatter(format)"
   ]
  },
  {
   "cell_type": "code",
   "execution_count": 35,
   "metadata": {},
   "outputs": [
    {
     "data": {
      "text/html": [
       "<div>\n",
       "<style scoped>\n",
       "    .dataframe tbody tr th:only-of-type {\n",
       "        vertical-align: middle;\n",
       "    }\n",
       "\n",
       "    .dataframe tbody tr th {\n",
       "        vertical-align: top;\n",
       "    }\n",
       "\n",
       "    .dataframe thead th {\n",
       "        text-align: right;\n",
       "    }\n",
       "</style>\n",
       "<table border=\"1\" class=\"dataframe\">\n",
       "  <thead>\n",
       "    <tr style=\"text-align: right;\">\n",
       "      <th></th>\n",
       "      <th>date</th>\n",
       "      <th>volume</th>\n",
       "    </tr>\n",
       "  </thead>\n",
       "  <tbody>\n",
       "    <tr>\n",
       "      <th>29</th>\n",
       "      <td>2021-01-02</td>\n",
       "      <td>13843183079</td>\n",
       "    </tr>\n",
       "  </tbody>\n",
       "</table>\n",
       "</div>"
      ],
      "text/plain": [
       "         date       volume\n",
       "29 2021-01-02  13843183079"
      ]
     },
     "execution_count": 35,
     "metadata": {},
     "output_type": "execute_result"
    }
   ],
   "source": [
    "data[data['volume'] == data['volume'].min()]"
   ]
  },
  {
   "cell_type": "code",
   "execution_count": 36,
   "metadata": {},
   "outputs": [
    {
     "data": {
      "text/html": [
       "<div>\n",
       "<style scoped>\n",
       "    .dataframe tbody tr th:only-of-type {\n",
       "        vertical-align: middle;\n",
       "    }\n",
       "\n",
       "    .dataframe tbody tr th {\n",
       "        vertical-align: top;\n",
       "    }\n",
       "\n",
       "    .dataframe thead th {\n",
       "        text-align: right;\n",
       "    }\n",
       "</style>\n",
       "<table border=\"1\" class=\"dataframe\">\n",
       "  <thead>\n",
       "    <tr style=\"text-align: right;\">\n",
       "      <th></th>\n",
       "      <th>date</th>\n",
       "      <th>volume</th>\n",
       "    </tr>\n",
       "  </thead>\n",
       "  <tbody>\n",
       "    <tr>\n",
       "      <th>27</th>\n",
       "      <td>2021-01-04</td>\n",
       "      <td>140906534191</td>\n",
       "    </tr>\n",
       "  </tbody>\n",
       "</table>\n",
       "</div>"
      ],
      "text/plain": [
       "         date        volume\n",
       "27 2021-01-04  140906534191"
      ]
     },
     "execution_count": 36,
     "metadata": {},
     "output_type": "execute_result"
    }
   ],
   "source": [
    "data[data['volume'] == data['volume'].max()]"
   ]
  },
  {
   "cell_type": "code",
   "execution_count": 37,
   "metadata": {},
   "outputs": [
    {
     "data": {
      "text/plain": [
       "43377314614.354836"
      ]
     },
     "execution_count": 37,
     "metadata": {},
     "output_type": "execute_result"
    }
   ],
   "source": [
    "data['volume'].mean()"
   ]
  },
  {
   "cell_type": "markdown",
   "metadata": {},
   "source": [
    "## Conclusion\n",
    "\n",
    "- volume transaksi terkecil terjadi pada tanggal **2 Januari** sebesar **13.8M**\n",
    "- hanya dalam 2 hari, pada **4 Januari** volume transaksi meningkat tajam menjadi yang tertinggi dalam bulan Januari 2021 sebesar **140.9M**\n",
    "- Rata - rata volume transaksi pada bulan Januari 2021 sebesar **43.3M**"
   ]
  },
  {
   "cell_type": "code",
   "execution_count": null,
   "metadata": {},
   "outputs": [],
   "source": []
  }
 ],
 "metadata": {
  "kernelspec": {
   "display_name": "capstone_da",
   "language": "python",
   "name": "capstone_da"
  },
  "language_info": {
   "codemirror_mode": {
    "name": "ipython",
    "version": 3
   },
   "file_extension": ".py",
   "mimetype": "text/x-python",
   "name": "python",
   "nbconvert_exporter": "python",
   "pygments_lexer": "ipython3",
   "version": "3.7.7"
  }
 },
 "nbformat": 4,
 "nbformat_minor": 2
}
